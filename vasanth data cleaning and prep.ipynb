{
 "cells": [
  {
   "cell_type": "code",
   "execution_count": 34,
   "id": "495d2cc6-05a6-4995-8f49-cec19e990a66",
   "metadata": {},
   "outputs": [
    {
     "name": "stdout",
     "output_type": "stream",
     "text": [
      "Origial Data Frame with NaN \n",
      "         one       two     three\n",
      "a -0.389095  1.058267 -0.109746\n",
      "b       NaN       NaN       NaN\n",
      "c  1.445843  1.253665  0.422369\n",
      "d -0.805858 -0.030304 -0.277300\n",
      "e       NaN       NaN       NaN\n",
      "f  0.120282  0.466258 -2.365653\n",
      "\n",
      "\n",
      "dropped Data Frame \n",
      "         one       two     three\n",
      "a -0.389095  1.058267 -0.109746\n",
      "c  1.445843  1.253665  0.422369\n",
      "d -0.805858 -0.030304 -0.277300\n",
      "f  0.120282  0.466258 -2.365653\n",
      "\n",
      "\n"
     ]
    }
   ],
   "source": [
    "import pandas as pd\n",
    "import numpy as np\n",
    "df=pd.DataFrame(np.random.randn(4,3),index =['a','c','d','f'],columns =['one','two','three'])\n",
    "df=df.reindex(['a','b','c','d','e','f'])\n",
    "print(\"Origial Data Frame with NaN \\n\",df)\n",
    "print(\"\\n\")\n",
    "print(\"dropped Data Frame \\n\",df.dropna())\n",
    "print(\"\\n\")"
   ]
  },
  {
   "cell_type": "code",
   "execution_count": 54,
   "id": "e958cb8c-8876-4bb3-b614-f0604078ed68",
   "metadata": {},
   "outputs": [
    {
     "name": "stdout",
     "output_type": "stream",
     "text": [
      "Original DataFrame:\n",
      "    one  two\n",
      "0   10   60\n",
      "1   20   70\n",
      "2   80   80\n",
      "3   40    0\n",
      "4   50   10\n",
      "\n",
      " DataFrame with replaced values:\n",
      "\n",
      "   one  two\n",
      "0    5   60\n",
      "1   20   70\n",
      "2    3    3\n",
      "3   40    0\n",
      "4   50    5\n"
     ]
    }
   ],
   "source": [
    "df=pd.DataFrame({'one':[10,20,80,40,50],'two':[60,70,80,0,10]})\n",
    "print(\"Original DataFrame:\\n\",df)\n",
    "print(\"\\n DataFrame with replaced values:\\n\")\n",
    "print(df.replace({10:5,80:3}))"
   ]
  },
  {
   "cell_type": "code",
   "execution_count": 70,
   "id": "5fa992d3-15c8-4006-b615-b81905337f42",
   "metadata": {},
   "outputs": [
    {
     "name": "stdout",
     "output_type": "stream",
     "text": [
      "Original DataFrame:\n",
      "         one       two     three\n",
      "a  1.752757  0.453967  1.209865\n",
      "b       NaN       NaN       NaN\n",
      "c  0.643840  1.491499  0.803094\n",
      "d -0.481890 -0.915508 -1.207454\n",
      "e       NaN       NaN       NaN\n",
      "f  0.038138 -0.509023 -0.076280\n",
      "\n",
      " NaN with truefill:\n",
      "\n",
      "a    False\n",
      "b     True\n",
      "c    False\n",
      "d    False\n",
      "e     True\n",
      "f    False\n",
      "Name: one, dtype: bool\n"
     ]
    }
   ],
   "source": [
    "df=pd.DataFrame(np.random.randn(4,3),index =['a','c','d','f'],columns =['one','two','three'])\n",
    "df=df.reindex(['a','b','c','d','e','f'])\n",
    "print(\"Original DataFrame:\\n\",df)\n",
    "print(\"\\n NaN with truefill:\\n\")\n",
    "print(df['one'].isnull())"
   ]
  },
  {
   "cell_type": "code",
   "execution_count": 86,
   "id": "6b6db736-24b2-4d20-9443-3bf84e4539b0",
   "metadata": {},
   "outputs": [
    {
     "name": "stdout",
     "output_type": "stream",
     "text": [
      "\n",
      " NaN-filled with Background values:\n",
      "\n",
      "        one       two     three\n",
      "a  1.752757  0.453967  1.209865\n",
      "b  0.643840  1.491499  0.803094\n",
      "c  0.643840  1.491499  0.803094\n",
      "d -0.481890 -0.915508 -1.207454\n",
      "e  0.038138 -0.509023 -0.076280\n",
      "f  0.038138 -0.509023 -0.076280\n"
     ]
    }
   ],
   "source": [
    "print(\"\\n NaN-filled with Background values:\\n\")\n",
    "print(df.bfill())"
   ]
  },
  {
   "cell_type": "code",
   "execution_count": null,
   "id": "a9bbb783-8fe2-4c38-825d-8d6ff67990c9",
   "metadata": {},
   "outputs": [],
   "source": []
  },
  {
   "cell_type": "code",
   "execution_count": null,
   "id": "5ab234a2-ba96-403e-9983-48ac765bdb9e",
   "metadata": {},
   "outputs": [],
   "source": []
  }
 ],
 "metadata": {
  "kernelspec": {
   "display_name": "Python [conda env:base] *",
   "language": "python",
   "name": "conda-base-py"
  },
  "language_info": {
   "codemirror_mode": {
    "name": "ipython",
    "version": 3
   },
   "file_extension": ".py",
   "mimetype": "text/x-python",
   "name": "python",
   "nbconvert_exporter": "python",
   "pygments_lexer": "ipython3",
   "version": "3.12.7"
  }
 },
 "nbformat": 4,
 "nbformat_minor": 5
}
