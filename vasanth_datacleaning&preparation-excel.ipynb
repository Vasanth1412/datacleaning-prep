{
 "cells": [
  {
   "cell_type": "code",
   "execution_count": 13,
   "id": "a0948c0d",
   "metadata": {},
   "outputs": [
    {
     "name": "stdout",
     "output_type": "stream",
     "text": [
      "original data : \n",
      " \n",
      "   Unnamed: 0.6  Unnamed: 0.5  Unnamed: 0.4  Unnamed: 0.3  Unnamed: 0.2  ...  \\\n",
      "0             0             0             0             0             0  ...   \n",
      "1             1             1             1             1             1  ...   \n",
      "2             2             2             2             2             2  ...   \n",
      "3             3             3             3             3             3  ...   \n",
      "4             4             4             4             4             4  ...   \n",
      "5             5             5             5             5             5  ...   \n",
      "6             6             6             6             6             6  ...   \n",
      "7             7             7             7             7             7  ...   \n",
      "8             8             8             8             8             8  ...   \n",
      "9             9             9             9             9             9  ...   \n",
      "\n",
      "   tam  maths  sci  soc  total  \n",
      "0   91     99   94   96    468  \n",
      "1   90     90   77   90    431  \n",
      "2   88     98   88   88    437  \n",
      "3   88     97   88   88    414  \n",
      "4   90     90   88   88    270  \n",
      "5   99     93   69   88    359  \n",
      "6   95     96   79   95    464  \n",
      "7  100     88   59  100    447  \n",
      "8   94     77   54   94    412  \n",
      "9   91     96   91   91    459  \n",
      "\n",
      "[10 rows x 16 columns]\n"
     ]
    }
   ],
   "source": [
    "import pandas as pd\n",
    "pd.set_option('display.max_columns',10)\n",
    "print(\"original data : \\n \")\n",
    "df=pd.read_excel(\"230901115dfiles.xlsx\")\n",
    "print(df)\n",
    "    "
   ]
  },
  {
   "cell_type": "code",
   "execution_count": 14,
   "id": "d15426cb",
   "metadata": {},
   "outputs": [
    {
     "name": "stdout",
     "output_type": "stream",
     "text": [
      "0       arun\n",
      "1       arya\n",
      "2      arjun\n",
      "3     balaji\n",
      "4      bawan\n",
      "5    barathi\n",
      "6     cheris\n",
      "7       devi\n",
      "8       elan\n",
      "9      jagan\n",
      "Name: name, dtype: object\n"
     ]
    }
   ],
   "source": [
    "f=df['name'].str.strip()\n",
    "f.to_excel(\"230901115dfiles.xlsx\")\n",
    "print(f)"
   ]
  },
  {
   "cell_type": "code",
   "execution_count": 15,
   "id": "5b89199a",
   "metadata": {},
   "outputs": [
    {
     "name": "stdout",
     "output_type": "stream",
     "text": [
      "\n",
      " replaced value:\n",
      "   Unnamed: 0.6  Unnamed: 0.5  Unnamed: 0.4  Unnamed: 0.3  Unnamed: 0.2  ...  \\\n",
      "0             0             0             0             0             0  ...   \n",
      "1             1             1             1             1             1  ...   \n",
      "2             2             2             2             2             2  ...   \n",
      "3             3             3             3             3             3  ...   \n",
      "4             4             4             4             4             4  ...   \n",
      "5             5             5             5             5             5  ...   \n",
      "6             6             6             6             6             6  ...   \n",
      "7             7             7             7             7             7  ...   \n",
      "8             8             8             8             8             8  ...   \n",
      "9             9             9             9             9             9  ...   \n",
      "\n",
      "   tam  maths  sci  soc  total  \n",
      "0   91     99   94   96    468  \n",
      "1   90     90   77   90    431  \n",
      "2   88     98   88   88    437  \n",
      "3   88     97   88   88    414  \n",
      "4   90     90   88   88    270  \n",
      "5   99     93   69   88    359  \n",
      "6   95     96   79   95    464  \n",
      "7  100     88   59  100    447  \n",
      "8   94     77   54   94    412  \n",
      "9   91     96   91   91    459  \n",
      "\n",
      "[10 rows x 16 columns]\n",
      "\n",
      " updated list \n",
      " \n"
     ]
    }
   ],
   "source": [
    "print(\"\\n replaced value:\")\n",
    "k=df.fillna(method='pad')\n",
    "print(k)\n",
    "print(\"\\n updated list \\n \")\n",
    "k.to_excel(\"230901115dfiles.xlsx\")\n",
    "\n"
   ]
  },
  {
   "cell_type": "code",
   "execution_count": 16,
   "id": "ee30e943",
   "metadata": {},
   "outputs": [
    {
     "name": "stdout",
     "output_type": "stream",
     "text": [
      "\n",
      " drop one particular column :\n",
      "\n",
      "   Unnamed: 0.6  Unnamed: 0.5  Unnamed: 0.4  Unnamed: 0.3  Unnamed: 0.2  ...  \\\n",
      "0             0             0             0             0             0  ...   \n",
      "1             1             1             1             1             1  ...   \n",
      "2             2             2             2             2             2  ...   \n",
      "3             3             3             3             3             3  ...   \n",
      "4             4             4             4             4             4  ...   \n",
      "5             5             5             5             5             5  ...   \n",
      "6             6             6             6             6             6  ...   \n",
      "7             7             7             7             7             7  ...   \n",
      "8             8             8             8             8             8  ...   \n",
      "9             9             9             9             9             9  ...   \n",
      "\n",
      "   eng  tam  maths sci  total  \n",
      "0   88   91     99  94    468  \n",
      "1   84   90     90  77    431  \n",
      "2   75   88     98  88    437  \n",
      "3   50   88     97  88    414  \n",
      "4   90   90     90  88    270  \n",
      "5   98   99     93  69    359  \n",
      "6   99   95     96  79    464  \n",
      "7  100  100     88  59    447  \n",
      "8   93   94     77  54    412  \n",
      "9   90   91     96  91    459  \n",
      "\n",
      "[10 rows x 15 columns]\n",
      "\n",
      " updated list :\n",
      " \n",
      "   Unnamed: 0.6  Unnamed: 0.5  Unnamed: 0.4  Unnamed: 0.3  Unnamed: 0.2  ...  \\\n",
      "0             0             0             0             0             0  ...   \n",
      "1             1             1             1             1             1  ...   \n",
      "2             2             2             2             2             2  ...   \n",
      "3             3             3             3             3             3  ...   \n",
      "4             4             4             4             4             4  ...   \n",
      "5             5             5             5             5             5  ...   \n",
      "6             6             6             6             6             6  ...   \n",
      "7             7             7             7             7             7  ...   \n",
      "8             8             8             8             8             8  ...   \n",
      "9             9             9             9             9             9  ...   \n",
      "\n",
      "   eng  tam  maths sci  total  \n",
      "0   88   91     99  94    468  \n",
      "1   84   90     90  77    431  \n",
      "2   75   88     98  88    437  \n",
      "3   50   88     97  88    414  \n",
      "4   90   90     90  88    270  \n",
      "5   98   99     93  69    359  \n",
      "6   99   95     96  79    464  \n",
      "7  100  100     88  59    447  \n",
      "8   93   94     77  54    412  \n",
      "9   90   91     96  91    459  \n",
      "\n",
      "[10 rows x 15 columns]\n"
     ]
    }
   ],
   "source": [
    "print(\"\\n drop one particular column :\\n\")\n",
    "k.drop(['soc'],axis=1,inplace=True)\n",
    "print(k)\n",
    "print(\"\\n updated list :\\n \")\n",
    "k.to_excel(\"230901115filesheet.xlsx\")\n",
    "print(k)"
   ]
  },
  {
   "cell_type": "code",
   "execution_count": 17,
   "id": "ffdfbf6e",
   "metadata": {},
   "outputs": [
    {
     "name": "stdout",
     "output_type": "stream",
     "text": [
      "\n",
      " replace values :\n",
      "\n",
      "\n",
      " original data :\n",
      "\n",
      "   Unnamed: 0.7  Unnamed: 0.6  Unnamed: 0.5  Unnamed: 0.4  Unnamed: 0.3  ...  \\\n",
      "0             0             0             0             0             0  ...   \n",
      "1             1             1             1             1             1  ...   \n",
      "2             2             2             2             2             2  ...   \n",
      "3             3             3             3             3             3  ...   \n",
      "4             4             4             4             4             4  ...   \n",
      "5             5             5             5             5             5  ...   \n",
      "6             6             6             6             6             6  ...   \n",
      "7             7             7             7             7             7  ...   \n",
      "8             8             8             8             8             8  ...   \n",
      "9             9             9             9             9             9  ...   \n",
      "\n",
      "   tam  maths  sci  soc total  \n",
      "0   91     99   94   96   468  \n",
      "1   90     90   77   90   431  \n",
      "2   88     98   88   88   437  \n",
      "3   88     97   88   88   414  \n",
      "4   90     90   88   88   270  \n",
      "5   99     93   69   88   359  \n",
      "6   95     96   79   95   464  \n",
      "7  100     88   59  100   447  \n",
      "8   94     77   54   94   412  \n",
      "9   91     96   91   91   459  \n",
      "\n",
      "[10 rows x 17 columns]\n",
      "\n",
      " repaced dataset :\n",
      "\n",
      "   Unnamed: 0.7  Unnamed: 0.6  Unnamed: 0.5  Unnamed: 0.4  Unnamed: 0.3  ...  \\\n",
      "0             0             0             0             0             0  ...   \n",
      "1             1             1             1             1             1  ...   \n",
      "2             2             2             2             2             2  ...   \n",
      "3             3             3             3             3             3  ...   \n",
      "4             4             4             4             4             4  ...   \n",
      "5             5             5             5             5             5  ...   \n",
      "6             6             6             6             6             6  ...   \n",
      "7             7             7             7             7             7  ...   \n",
      "8             8             8             8             8             8  ...   \n",
      "9             9             9             9             9             9  ...   \n",
      "\n",
      "   tam  maths  sci  soc total  \n",
      "0   91     99   94   96   468  \n",
      "1   90     90   77   90   431  \n",
      "2   88     98   88   88   437  \n",
      "3   88     97   88   88   414  \n",
      "4   90     90   88   88   270  \n",
      "5   99     93   69   88   359  \n",
      "6   95     96   79   95   464  \n",
      "7  100     88   59  100   447  \n",
      "8   94     77   54   94   412  \n",
      "9   91     96   91   91   459  \n",
      "\n",
      "[10 rows x 17 columns]\n",
      "\n",
      " updated dataset :\n",
      "\n"
     ]
    }
   ],
   "source": [
    "print(\"\\n replace values :\\n\")\n",
    "n=pd.read_excel(\"230901115dfiles.xlsx\")\n",
    "print(\"\\n original data :\\n\")\n",
    "print(n)\n",
    "y=n.replace({89:88})\n",
    "print(\"\\n repaced dataset :\\n\")\n",
    "print(y)\n",
    "print(\"\\n updated dataset :\\n\")\n",
    "y.to_excel(\"230901115dfiles.xlsx\")"
   ]
  },
  {
   "cell_type": "code",
   "execution_count": 18,
   "id": "ab37620d",
   "metadata": {},
   "outputs": [
    {
     "name": "stdout",
     "output_type": "stream",
     "text": [
      "   Unnamed: 0.8  Unnamed: 0.7  Unnamed: 0.6  Unnamed: 0.5  Unnamed: 0.4  ...  \\\n",
      "0             0             0             0             0             0  ...   \n",
      "1             1             1             1             1             1  ...   \n",
      "2             2             2             2             2             2  ...   \n",
      "3             3             3             3             3             3  ...   \n",
      "4             4             4             4             4             4  ...   \n",
      "5             5             5             5             5             5  ...   \n",
      "6             6             6             6             6             6  ...   \n",
      "7             7             7             7             7             7  ...   \n",
      "8             8             8             8             8             8  ...   \n",
      "9             9             9             9             9             9  ...   \n",
      "\n",
      "   tam  maths  sci  soc  total  \n",
      "0   91     99   94   96    468  \n",
      "1   90     90   77   90    431  \n",
      "2   88     98   88   88    437  \n",
      "3   88     97   88   88    414  \n",
      "4   90     90   88   88    270  \n",
      "5   99     93   69   88    359  \n",
      "6   95     96   79   95    464  \n",
      "7  100     88   59  100    447  \n",
      "8   94     77   54   94    412  \n",
      "9   91     96   91   91    459  \n",
      "\n",
      "[10 rows x 18 columns]\n",
      "\n",
      " extract using isin()function :\n",
      "\n"
     ]
    },
    {
     "ename": "KeyError",
     "evalue": "'ENGLISH'",
     "output_type": "error",
     "traceback": [
      "\u001b[0;31m---------------------------------------------------------------------------\u001b[0m",
      "\u001b[0;31mKeyError\u001b[0m                                  Traceback (most recent call last)",
      "File \u001b[0;32m~/anaconda3/lib/python3.11/site-packages/pandas/core/indexes/base.py:3653\u001b[0m, in \u001b[0;36mIndex.get_loc\u001b[0;34m(self, key)\u001b[0m\n\u001b[1;32m   3652\u001b[0m \u001b[38;5;28;01mtry\u001b[39;00m:\n\u001b[0;32m-> 3653\u001b[0m     \u001b[38;5;28;01mreturn\u001b[39;00m \u001b[38;5;28mself\u001b[39m\u001b[38;5;241m.\u001b[39m_engine\u001b[38;5;241m.\u001b[39mget_loc(casted_key)\n\u001b[1;32m   3654\u001b[0m \u001b[38;5;28;01mexcept\u001b[39;00m \u001b[38;5;167;01mKeyError\u001b[39;00m \u001b[38;5;28;01mas\u001b[39;00m err:\n",
      "File \u001b[0;32m~/anaconda3/lib/python3.11/site-packages/pandas/_libs/index.pyx:147\u001b[0m, in \u001b[0;36mpandas._libs.index.IndexEngine.get_loc\u001b[0;34m()\u001b[0m\n",
      "File \u001b[0;32m~/anaconda3/lib/python3.11/site-packages/pandas/_libs/index.pyx:176\u001b[0m, in \u001b[0;36mpandas._libs.index.IndexEngine.get_loc\u001b[0;34m()\u001b[0m\n",
      "File \u001b[0;32mpandas/_libs/hashtable_class_helper.pxi:7080\u001b[0m, in \u001b[0;36mpandas._libs.hashtable.PyObjectHashTable.get_item\u001b[0;34m()\u001b[0m\n",
      "File \u001b[0;32mpandas/_libs/hashtable_class_helper.pxi:7088\u001b[0m, in \u001b[0;36mpandas._libs.hashtable.PyObjectHashTable.get_item\u001b[0;34m()\u001b[0m\n",
      "\u001b[0;31mKeyError\u001b[0m: 'ENGLISH'",
      "\nThe above exception was the direct cause of the following exception:\n",
      "\u001b[0;31mKeyError\u001b[0m                                  Traceback (most recent call last)",
      "Cell \u001b[0;32mIn[18], line 4\u001b[0m\n\u001b[1;32m      2\u001b[0m \u001b[38;5;28mprint\u001b[39m(df)\n\u001b[1;32m      3\u001b[0m \u001b[38;5;28mprint\u001b[39m(\u001b[38;5;124m\"\u001b[39m\u001b[38;5;130;01m\\n\u001b[39;00m\u001b[38;5;124m extract using isin()function :\u001b[39m\u001b[38;5;130;01m\\n\u001b[39;00m\u001b[38;5;124m\"\u001b[39m)\n\u001b[0;32m----> 4\u001b[0m nw\u001b[38;5;241m=\u001b[39mdf[\u001b[38;5;124m'\u001b[39m\u001b[38;5;124mENGLISH\u001b[39m\u001b[38;5;124m'\u001b[39m]\u001b[38;5;241m.\u001b[39misin([\u001b[38;5;241m89\u001b[39m])\n\u001b[1;32m      5\u001b[0m \u001b[38;5;28mprint\u001b[39m(df[nw])\n",
      "File \u001b[0;32m~/anaconda3/lib/python3.11/site-packages/pandas/core/frame.py:3761\u001b[0m, in \u001b[0;36mDataFrame.__getitem__\u001b[0;34m(self, key)\u001b[0m\n\u001b[1;32m   3759\u001b[0m \u001b[38;5;28;01mif\u001b[39;00m \u001b[38;5;28mself\u001b[39m\u001b[38;5;241m.\u001b[39mcolumns\u001b[38;5;241m.\u001b[39mnlevels \u001b[38;5;241m>\u001b[39m \u001b[38;5;241m1\u001b[39m:\n\u001b[1;32m   3760\u001b[0m     \u001b[38;5;28;01mreturn\u001b[39;00m \u001b[38;5;28mself\u001b[39m\u001b[38;5;241m.\u001b[39m_getitem_multilevel(key)\n\u001b[0;32m-> 3761\u001b[0m indexer \u001b[38;5;241m=\u001b[39m \u001b[38;5;28mself\u001b[39m\u001b[38;5;241m.\u001b[39mcolumns\u001b[38;5;241m.\u001b[39mget_loc(key)\n\u001b[1;32m   3762\u001b[0m \u001b[38;5;28;01mif\u001b[39;00m is_integer(indexer):\n\u001b[1;32m   3763\u001b[0m     indexer \u001b[38;5;241m=\u001b[39m [indexer]\n",
      "File \u001b[0;32m~/anaconda3/lib/python3.11/site-packages/pandas/core/indexes/base.py:3655\u001b[0m, in \u001b[0;36mIndex.get_loc\u001b[0;34m(self, key)\u001b[0m\n\u001b[1;32m   3653\u001b[0m     \u001b[38;5;28;01mreturn\u001b[39;00m \u001b[38;5;28mself\u001b[39m\u001b[38;5;241m.\u001b[39m_engine\u001b[38;5;241m.\u001b[39mget_loc(casted_key)\n\u001b[1;32m   3654\u001b[0m \u001b[38;5;28;01mexcept\u001b[39;00m \u001b[38;5;167;01mKeyError\u001b[39;00m \u001b[38;5;28;01mas\u001b[39;00m err:\n\u001b[0;32m-> 3655\u001b[0m     \u001b[38;5;28;01mraise\u001b[39;00m \u001b[38;5;167;01mKeyError\u001b[39;00m(key) \u001b[38;5;28;01mfrom\u001b[39;00m \u001b[38;5;21;01merr\u001b[39;00m\n\u001b[1;32m   3656\u001b[0m \u001b[38;5;28;01mexcept\u001b[39;00m \u001b[38;5;167;01mTypeError\u001b[39;00m:\n\u001b[1;32m   3657\u001b[0m     \u001b[38;5;66;03m# If we have a listlike key, _check_indexing_error will raise\u001b[39;00m\n\u001b[1;32m   3658\u001b[0m     \u001b[38;5;66;03m#  InvalidIndexError. Otherwise we fall through and re-raise\u001b[39;00m\n\u001b[1;32m   3659\u001b[0m     \u001b[38;5;66;03m#  the TypeError.\u001b[39;00m\n\u001b[1;32m   3660\u001b[0m     \u001b[38;5;28mself\u001b[39m\u001b[38;5;241m.\u001b[39m_check_indexing_error(key)\n",
      "\u001b[0;31mKeyError\u001b[0m: 'ENGLISH'"
     ]
    }
   ],
   "source": [
    "df=pd.read_excel(\"230901115dfiles.xlsx\")\n",
    "print(df)\n",
    "print(\"\\n extract using isin()function :\\n\")\n",
    "nw=df['ENGLISH'].isin([89])\n",
    "print(df[nw])\n"
   ]
  },
  {
   "cell_type": "code",
   "execution_count": null,
   "id": "4f562ac7",
   "metadata": {},
   "outputs": [],
   "source": []
  }
 ],
 "metadata": {
  "kernelspec": {
   "display_name": "Python 3 (ipykernel)",
   "language": "python",
   "name": "python3"
  },
  "language_info": {
   "codemirror_mode": {
    "name": "ipython",
    "version": 3
   },
   "file_extension": ".py",
   "mimetype": "text/x-python",
   "name": "python",
   "nbconvert_exporter": "python",
   "pygments_lexer": "ipython3",
   "version": "3.11.5"
  }
 },
 "nbformat": 4,
 "nbformat_minor": 5
}
